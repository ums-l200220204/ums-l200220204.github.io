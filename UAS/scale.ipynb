{
  "cells": [
    {
      "cell_type": "code",
      "execution_count": 3,
      "id": "76e6c5ea-68c6-47ba-a516-bd8875486d01",
      "metadata": {
        "colab": {
          "base_uri": "https://localhost:8080/"
        },
        "id": "76e6c5ea-68c6-47ba-a516-bd8875486d01",
        "outputId": "43c5f43c-a885-42c1-c57d-2bbddb834c78"
      },
      "outputs": [
        {
          "output_type": "stream",
          "name": "stdout",
          "text": [
            "Matriks fitur dibuat dengan shape: (100, 615)\n",
            "Contoh kolom fitur: ['0021', '00wib', '0128', '0146', '0232', '0250', '0267', '03', '0354', '0481']\n"
          ]
        }
      ],
      "source": [
        "import tarfile\n",
        "from itertools import islice\n",
        "from sklearn.feature_extraction.text import CountVectorizer\n",
        "\n",
        "# Fungsi untuk membaca file dari arsip .tar\n",
        "def load_custom_data(file_path, file_name, num_docs):\n",
        "    with tarfile.open(file_path, 'r') as tar:\n",
        "        # Membuka file tertentu di dalam arsip\n",
        "        datafile = tar.extractfile(file_name)\n",
        "        if datafile:\n",
        "            # Mengembalikan baris pertama sejumlah num_docs\n",
        "            return list(islice(datafile, num_docs))\n",
        "        else:\n",
        "            raise FileNotFoundError(f\"{file_name} tidak ditemukan dalam arsip.\")\n",
        "\n",
        "# Fungsi untuk membuat matriks fitur dari teks\n",
        "def make_matrix(docs, binary=False):\n",
        "    vec = CountVectorizer(min_df=1, max_df=0.9, binary=binary)\n",
        "    mtx = vec.fit_transform(docs)\n",
        "    cols = [None] * len(vec.vocabulary_)\n",
        "    for word, idx in vec.vocabulary_.items():\n",
        "        cols[idx] = word\n",
        "    return mtx, cols\n",
        "\n",
        "file_path = 'grup_infor.tar'\n",
        "file_name = 'data_group_cleaned.csv'\n",
        "num_docs = 100\n",
        "\n",
        "# Membaca data\n",
        "try:\n",
        "    docs = load_custom_data(file_path, file_name, num_docs)\n",
        "    # Mengubah byte ke string (jika diperlukan)\n",
        "    docs = [doc.decode('utf-8').strip() for doc in docs]\n",
        "\n",
        "    # Membuat matriks fitur\n",
        "    matrix, columns = make_matrix(docs)\n",
        "    print(\"Matriks fitur dibuat dengan shape:\", matrix.shape)\n",
        "    print(\"Contoh kolom fitur:\", columns[:10])\n",
        "except Exception as e:\n",
        "    print(\"Terjadi kesalahan:\", e)"
      ]
    },
    {
      "cell_type": "code",
      "source": [],
      "metadata": {
        "id": "y3VXgp0C0IJX"
      },
      "id": "y3VXgp0C0IJX",
      "execution_count": null,
      "outputs": []
    }
  ],
  "metadata": {
    "kernelspec": {
      "display_name": "Python 3 (ipykernel)",
      "language": "python",
      "name": "python3"
    },
    "language_info": {
      "codemirror_mode": {
        "name": "ipython",
        "version": 3
      },
      "file_extension": ".py",
      "mimetype": "text/x-python",
      "name": "python",
      "nbconvert_exporter": "python",
      "pygments_lexer": "ipython3",
      "version": "3.11.3"
    },
    "colab": {
      "provenance": []
    }
  },
  "nbformat": 4,
  "nbformat_minor": 5
}